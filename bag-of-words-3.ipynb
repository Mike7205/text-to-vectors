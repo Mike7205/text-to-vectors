{
 "cells": [
  {
   "cell_type": "markdown",
   "source": [
    "# Text classification of clickbait headlines\n",
    "## Iteration 3: feature weighting\n",
    "\n",
    "Raw counts are not always the most informative metric, as the most common words in a corpus can occur with equal frequency across both clickbait and non-clickbait titles. We can apply a weighting called term frequency-inverse document frequency (tf-idf) which upweights terms that are found in only a few documents, and downweights terms that are found commonly across most documents.\n",
    "\n",
    "## Load in dependencies and data"
   ],
   "metadata": {
    "collapsed": false,
    "pycharm": {
     "name": "#%% md\n"
    }
   }
  },
  {
   "cell_type": "code",
   "execution_count": 9,
   "outputs": [],
   "source": [
    "import pandas as pd\n",
    "\n",
    "from sklearn.feature_extraction.text import TfidfVectorizer\n",
    "\n",
    "from support_functions import apply_string_cleaning, train_text_classification_model, generate_predictions, lemmatise_text"
   ],
   "metadata": {
    "collapsed": false,
    "pycharm": {
     "name": "#%%\n"
    }
   }
  },
  {
   "cell_type": "code",
   "execution_count": 3,
   "outputs": [],
   "source": [
    "# Read in clickbait data\n",
    "clickbait_train = pd.read_csv(\"data/clickbait_train.csv\", sep=\"\\t\", header=0)\n",
    "clickbait_val = pd.read_csv(\"data/clickbait_val.csv\", sep=\"\\t\", header=0)\n",
    "clickbait_test = pd.read_csv(\"data/clickbait_test.csv\", sep=\"\\t\", header=0)"
   ],
   "metadata": {
    "collapsed": false,
    "pycharm": {
     "name": "#%%\n"
    }
   }
  },
  {
   "cell_type": "code",
   "execution_count": 7,
   "outputs": [],
   "source": [
    "clickbait_train[\"text_lemmatised\"] = apply_string_cleaning(lemmatise_text(clickbait_train[\"text\"]))\n",
    "clickbait_val[\"text_lemmatised\"] = apply_string_cleaning(lemmatise_text(clickbait_val[\"text\"]))\n",
    "clickbait_test[\"text_lemmatised\"] = apply_string_cleaning(lemmatise_text(clickbait_test[\"text\"]))"
   ],
   "metadata": {
    "collapsed": false,
    "pycharm": {
     "name": "#%%\n"
    }
   }
  },
  {
   "cell_type": "markdown",
   "source": [
    "## Weighting the features\n",
    "\n",
    "The tf-idf weighting can be applied using the `TfidfVectorizer`, making it as easy to implement as the CountVectorizer."
   ],
   "metadata": {
    "collapsed": false,
    "pycharm": {
     "name": "#%% md\n"
    }
   }
  },
  {
   "cell_type": "code",
   "execution_count": 10,
   "outputs": [
    {
     "data": {
      "text/plain": "TfidfVectorizer(max_features=6000)",
      "text/html": "<style>#sk-container-id-1 {color: black;background-color: white;}#sk-container-id-1 pre{padding: 0;}#sk-container-id-1 div.sk-toggleable {background-color: white;}#sk-container-id-1 label.sk-toggleable__label {cursor: pointer;display: block;width: 100%;margin-bottom: 0;padding: 0.3em;box-sizing: border-box;text-align: center;}#sk-container-id-1 label.sk-toggleable__label-arrow:before {content: \"▸\";float: left;margin-right: 0.25em;color: #696969;}#sk-container-id-1 label.sk-toggleable__label-arrow:hover:before {color: black;}#sk-container-id-1 div.sk-estimator:hover label.sk-toggleable__label-arrow:before {color: black;}#sk-container-id-1 div.sk-toggleable__content {max-height: 0;max-width: 0;overflow: hidden;text-align: left;background-color: #f0f8ff;}#sk-container-id-1 div.sk-toggleable__content pre {margin: 0.2em;color: black;border-radius: 0.25em;background-color: #f0f8ff;}#sk-container-id-1 input.sk-toggleable__control:checked~div.sk-toggleable__content {max-height: 200px;max-width: 100%;overflow: auto;}#sk-container-id-1 input.sk-toggleable__control:checked~label.sk-toggleable__label-arrow:before {content: \"▾\";}#sk-container-id-1 div.sk-estimator input.sk-toggleable__control:checked~label.sk-toggleable__label {background-color: #d4ebff;}#sk-container-id-1 div.sk-label input.sk-toggleable__control:checked~label.sk-toggleable__label {background-color: #d4ebff;}#sk-container-id-1 input.sk-hidden--visually {border: 0;clip: rect(1px 1px 1px 1px);clip: rect(1px, 1px, 1px, 1px);height: 1px;margin: -1px;overflow: hidden;padding: 0;position: absolute;width: 1px;}#sk-container-id-1 div.sk-estimator {font-family: monospace;background-color: #f0f8ff;border: 1px dotted black;border-radius: 0.25em;box-sizing: border-box;margin-bottom: 0.5em;}#sk-container-id-1 div.sk-estimator:hover {background-color: #d4ebff;}#sk-container-id-1 div.sk-parallel-item::after {content: \"\";width: 100%;border-bottom: 1px solid gray;flex-grow: 1;}#sk-container-id-1 div.sk-label:hover label.sk-toggleable__label {background-color: #d4ebff;}#sk-container-id-1 div.sk-serial::before {content: \"\";position: absolute;border-left: 1px solid gray;box-sizing: border-box;top: 0;bottom: 0;left: 50%;z-index: 0;}#sk-container-id-1 div.sk-serial {display: flex;flex-direction: column;align-items: center;background-color: white;padding-right: 0.2em;padding-left: 0.2em;position: relative;}#sk-container-id-1 div.sk-item {position: relative;z-index: 1;}#sk-container-id-1 div.sk-parallel {display: flex;align-items: stretch;justify-content: center;background-color: white;position: relative;}#sk-container-id-1 div.sk-item::before, #sk-container-id-1 div.sk-parallel-item::before {content: \"\";position: absolute;border-left: 1px solid gray;box-sizing: border-box;top: 0;bottom: 0;left: 50%;z-index: -1;}#sk-container-id-1 div.sk-parallel-item {display: flex;flex-direction: column;z-index: 1;position: relative;background-color: white;}#sk-container-id-1 div.sk-parallel-item:first-child::after {align-self: flex-end;width: 50%;}#sk-container-id-1 div.sk-parallel-item:last-child::after {align-self: flex-start;width: 50%;}#sk-container-id-1 div.sk-parallel-item:only-child::after {width: 0;}#sk-container-id-1 div.sk-dashed-wrapped {border: 1px dashed gray;margin: 0 0.4em 0.5em 0.4em;box-sizing: border-box;padding-bottom: 0.4em;background-color: white;}#sk-container-id-1 div.sk-label label {font-family: monospace;font-weight: bold;display: inline-block;line-height: 1.2em;}#sk-container-id-1 div.sk-label-container {text-align: center;}#sk-container-id-1 div.sk-container {/* jupyter's `normalize.less` sets `[hidden] { display: none; }` but bootstrap.min.css set `[hidden] { display: none !important; }` so we also need the `!important` here to be able to override the default hidden behavior on the sphinx rendered scikit-learn.org. See: https://github.com/scikit-learn/scikit-learn/issues/21755 */display: inline-block !important;position: relative;}#sk-container-id-1 div.sk-text-repr-fallback {display: none;}</style><div id=\"sk-container-id-1\" class=\"sk-top-container\"><div class=\"sk-text-repr-fallback\"><pre>TfidfVectorizer(max_features=6000)</pre><b>In a Jupyter environment, please rerun this cell to show the HTML representation or trust the notebook. <br />On GitHub, the HTML representation is unable to render, please try loading this page with nbviewer.org.</b></div><div class=\"sk-container\" hidden><div class=\"sk-item\"><div class=\"sk-estimator sk-toggleable\"><input class=\"sk-toggleable__control sk-hidden--visually\" id=\"sk-estimator-id-1\" type=\"checkbox\" checked><label for=\"sk-estimator-id-1\" class=\"sk-toggleable__label sk-toggleable__label-arrow\">TfidfVectorizer</label><div class=\"sk-toggleable__content\"><pre>TfidfVectorizer(max_features=6000)</pre></div></div></div></div></div>"
     },
     "execution_count": 10,
     "metadata": {},
     "output_type": "execute_result"
    }
   ],
   "source": [
    "tfidfVectoriser = TfidfVectorizer(max_features=6000)\n",
    "tfidfVectoriser.fit(clickbait_train[\"text_lemmatised\"])"
   ],
   "metadata": {
    "collapsed": false,
    "pycharm": {
     "name": "#%%\n"
    }
   }
  },
  {
   "cell_type": "code",
   "execution_count": 11,
   "outputs": [],
   "source": [
    "X_train_tfidf = tfidfVectoriser.transform(clickbait_train[\"text_lemmatised\"]).toarray()\n",
    "X_val_tfidf = tfidfVectoriser.transform(clickbait_val[\"text_lemmatised\"]).toarray()"
   ],
   "metadata": {
    "collapsed": false,
    "pycharm": {
     "name": "#%%\n"
    }
   }
  },
  {
   "cell_type": "markdown",
   "source": [
    "## Train our simple model\n",
    "\n",
    "We're going to train the same model we did last time, with just one adjustment to account for the change in vocabulary size."
   ],
   "metadata": {
    "collapsed": false,
    "pycharm": {
     "name": "#%% md\n"
    }
   }
  },
  {
   "cell_type": "code",
   "execution_count": 15,
   "outputs": [
    {
     "name": "stdout",
     "output_type": "stream",
     "text": [
      "Epoch 1/12\n",
      "10/10 [==============================] - 1s 40ms/step - loss: 0.6556 - accuracy: 0.8435 - val_loss: 0.6083 - val_accuracy: 0.9323\n",
      "Epoch 2/12\n",
      "10/10 [==============================] - 0s 25ms/step - loss: 0.5739 - accuracy: 0.9508 - val_loss: 0.5393 - val_accuracy: 0.9459\n",
      "Epoch 3/12\n",
      "10/10 [==============================] - 0s 24ms/step - loss: 0.5071 - accuracy: 0.9597 - val_loss: 0.4795 - val_accuracy: 0.9509\n",
      "Epoch 4/12\n",
      "10/10 [==============================] - 0s 25ms/step - loss: 0.4474 - accuracy: 0.9643 - val_loss: 0.4252 - val_accuracy: 0.9547\n",
      "Epoch 5/12\n",
      "10/10 [==============================] - 0s 25ms/step - loss: 0.3932 - accuracy: 0.9670 - val_loss: 0.3760 - val_accuracy: 0.9573\n",
      "Epoch 6/12\n",
      "10/10 [==============================] - 0s 25ms/step - loss: 0.3443 - accuracy: 0.9695 - val_loss: 0.3318 - val_accuracy: 0.9603\n",
      "Epoch 7/12\n",
      "10/10 [==============================] - 0s 25ms/step - loss: 0.3006 - accuracy: 0.9719 - val_loss: 0.2926 - val_accuracy: 0.9614\n",
      "Epoch 8/12\n",
      "10/10 [==============================] - 0s 25ms/step - loss: 0.2621 - accuracy: 0.9733 - val_loss: 0.2584 - val_accuracy: 0.9639\n",
      "Epoch 9/12\n",
      "10/10 [==============================] - 0s 26ms/step - loss: 0.2285 - accuracy: 0.9747 - val_loss: 0.2288 - val_accuracy: 0.9655\n",
      "Epoch 10/12\n",
      "10/10 [==============================] - 0s 25ms/step - loss: 0.1996 - accuracy: 0.9760 - val_loss: 0.2034 - val_accuracy: 0.9663\n",
      "Epoch 11/12\n",
      "10/10 [==============================] - 0s 23ms/step - loss: 0.1747 - accuracy: 0.9773 - val_loss: 0.1817 - val_accuracy: 0.9673\n",
      "Epoch 12/12\n",
      "10/10 [==============================] - 0s 21ms/step - loss: 0.1535 - accuracy: 0.9786 - val_loss: 0.1635 - val_accuracy: 0.9675\n"
     ]
    }
   ],
   "source": [
    "tidy_model = train_text_classification_model(\n",
    "    X_train_tfidf,\n",
    "    clickbait_train[\"label\"].to_numpy(),\n",
    "    X_val_tfidf,\n",
    "    clickbait_val[\"label\"].to_numpy(),\n",
    "    X_train_tfidf.shape[1],\n",
    "    12,\n",
    "    64\n",
    ")"
   ],
   "metadata": {
    "collapsed": false,
    "pycharm": {
     "name": "#%%\n"
    }
   }
  },
  {
   "cell_type": "code",
   "execution_count": 17,
   "outputs": [
    {
     "name": "stdout",
     "output_type": "stream",
     "text": [
      "200/200 [==============================] - 0s 1ms/step\n",
      "col_0   0.0   1.0\n",
      "row_0            \n",
      "0      3066   138\n",
      "1        70  3126\n"
     ]
    }
   ],
   "source": [
    "clickbait_val[\"tfidf_pred\"] = generate_predictions(tidy_model, X_val_tfidf, clickbait_val[\"label\"].to_numpy())"
   ],
   "metadata": {
    "collapsed": false,
    "pycharm": {
     "name": "#%%\n"
    }
   }
  },
  {
   "cell_type": "markdown",
   "source": [
    "We can see that not only is our model is a similar accuracy to baseline, but now it's better at identifying non-clickbait titles than clickbait titles. We can see that we have more instances where the model has predicted clickbait when it shouldn't than the other way around."
   ],
   "metadata": {
    "collapsed": false,
    "pycharm": {
     "name": "#%% md\n"
    }
   }
  },
  {
   "cell_type": "code",
   "execution_count": 18,
   "outputs": [
    {
     "data": {
      "text/plain": "49     This Body Cam Footage Shows A Vehicle Plow Int...\n83     Photographer Gregory Crewdson Releases Hauntin...\n139    21 New Year's Resolutions For TV To Consider I...\n190    17 Things Vegetarians In The South Have To Dea...\n283    What's Your Stance On These Unspoken Rules For...\nName: text, dtype: object"
     },
     "execution_count": 18,
     "metadata": {},
     "output_type": "execute_result"
    }
   ],
   "source": [
    "# False negatives (model is not predicting clickbait when it should)\n",
    "clickbait_val.loc[(clickbait_val[\"label\"] == 1) & (clickbait_val[\"tfidf_pred\"] == 0), \"text\"][:5]"
   ],
   "metadata": {
    "collapsed": false,
    "pycharm": {
     "name": "#%%\n"
    }
   }
  },
  {
   "cell_type": "code",
   "execution_count": 19,
   "outputs": [
    {
     "data": {
      "text/plain": "2          Former 'Dudley Boys' sign with TNA Wrestling\n4                              Where Is Oil Going Next?\n22          Irish Obama song proves popular on Internet\n69            A World of Lingo (Out of This World, Too)\n73    Minutes Behind the Leaders, Landis Speaks of a...\nName: text, dtype: object"
     },
     "execution_count": 19,
     "metadata": {},
     "output_type": "execute_result"
    }
   ],
   "source": [
    "# False positives (model is predicting clickbait when it shouldn't)\n",
    "clickbait_val.loc[(clickbait_val[\"label\"] == 0) & (clickbait_val[\"tfidf_pred\"] == 1), \"text\"][:5]"
   ],
   "metadata": {
    "collapsed": false,
    "pycharm": {
     "name": "#%%\n"
    }
   }
  },
  {
   "cell_type": "markdown",
   "source": [
    "We can see that the non-clickbait titles that the model missed contain a lot of terms we associate with clickbait, like \"popular\", \"internet\" or a sentence starting with \"where\". The clickbait titles are actually quite clearly clickbait, but I guess the words they contain are also present enough in non-clickbait titles to confuse the model.\n",
    "\n",
    "We've gotten as far as we can with BOW methods, so let's move onto our first word embeddings model using word2vec."
   ],
   "metadata": {
    "collapsed": false,
    "pycharm": {
     "name": "#%% md\n"
    }
   }
  }
 ],
 "metadata": {
  "kernelspec": {
   "display_name": "Python 3",
   "language": "python",
   "name": "python3"
  },
  "language_info": {
   "codemirror_mode": {
    "name": "ipython",
    "version": 2
   },
   "file_extension": ".py",
   "mimetype": "text/x-python",
   "name": "python",
   "nbconvert_exporter": "python",
   "pygments_lexer": "ipython2",
   "version": "2.7.6"
  }
 },
 "nbformat": 4,
 "nbformat_minor": 0
}