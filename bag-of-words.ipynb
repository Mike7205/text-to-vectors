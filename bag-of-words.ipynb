{
 "cells": [
  {
   "cell_type": "markdown",
   "source": [
    "# Text classification of clickbait headlines\n",
    "## Bag-of-words: count vectorisation\n",
    "\n",
    "Count vectorisation is a method where you convert every document into a n-dimensional vector, where the elements represent one word in the corpus vocabulary. It is one of the simplest methods of converting text into inputs for a ML model.\n",
    "\n",
    "## Load in dependencies and data"
   ],
   "metadata": {
    "collapsed": false,
    "pycharm": {
     "name": "#%% md\n"
    }
   }
  },
  {
   "cell_type": "code",
   "execution_count": 20,
   "outputs": [],
   "source": [
    "import pandas as pd\n",
    "import numpy as np\n",
    "\n",
    "from keras import models, layers"
   ],
   "metadata": {
    "collapsed": false,
    "pycharm": {
     "name": "#%%\n"
    }
   }
  },
  {
   "cell_type": "code",
   "execution_count": 38,
   "outputs": [],
   "source": [
    "# Read in clickbait data: https://github.com/bhargaviparanjape/clickbait/tree/master/dataset\n",
    "clickbait_train = pd.read_csv(\"data/clickbait_train.csv\", sep=\"\\t\", header=0)\n",
    "clickbait_val = pd.read_csv(\"data/clickbait_val.csv\", sep=\"\\t\", header=0)"
   ],
   "metadata": {
    "collapsed": false,
    "pycharm": {
     "name": "#%%\n"
    }
   }
  },
  {
   "cell_type": "code",
   "execution_count": 39,
   "outputs": [
    {
     "data": {
      "text/plain": "                                                text  label\n0  New insulin-resistance discovery may help diab...      0\n1  Gates Group Plans to Give More in 2009 Despite...      0\n2  Heather Graham Rides A Garbage Truck, Remains ...      1\n3             Irish Developer Found Dead in His Home      0\n4  Boat accident in Democratic Republic of the Co...      0\n5           Here's Where \"Joy\" Went Very, Very Wrong      1\n6              Russian ICBM test launch failed again      0\n7  17 Misconceptions Sorority Girls Want To Set S...      1\n8  How Well Do You Remember The Intro To \"Danny P...      1\n9  Harry Potter Fans Are Paying It Forward And Le...      1",
      "text/html": "<div>\n<style scoped>\n    .dataframe tbody tr th:only-of-type {\n        vertical-align: middle;\n    }\n\n    .dataframe tbody tr th {\n        vertical-align: top;\n    }\n\n    .dataframe thead th {\n        text-align: right;\n    }\n</style>\n<table border=\"1\" class=\"dataframe\">\n  <thead>\n    <tr style=\"text-align: right;\">\n      <th></th>\n      <th>text</th>\n      <th>label</th>\n    </tr>\n  </thead>\n  <tbody>\n    <tr>\n      <th>0</th>\n      <td>New insulin-resistance discovery may help diab...</td>\n      <td>0</td>\n    </tr>\n    <tr>\n      <th>1</th>\n      <td>Gates Group Plans to Give More in 2009 Despite...</td>\n      <td>0</td>\n    </tr>\n    <tr>\n      <th>2</th>\n      <td>Heather Graham Rides A Garbage Truck, Remains ...</td>\n      <td>1</td>\n    </tr>\n    <tr>\n      <th>3</th>\n      <td>Irish Developer Found Dead in His Home</td>\n      <td>0</td>\n    </tr>\n    <tr>\n      <th>4</th>\n      <td>Boat accident in Democratic Republic of the Co...</td>\n      <td>0</td>\n    </tr>\n    <tr>\n      <th>5</th>\n      <td>Here's Where \"Joy\" Went Very, Very Wrong</td>\n      <td>1</td>\n    </tr>\n    <tr>\n      <th>6</th>\n      <td>Russian ICBM test launch failed again</td>\n      <td>0</td>\n    </tr>\n    <tr>\n      <th>7</th>\n      <td>17 Misconceptions Sorority Girls Want To Set S...</td>\n      <td>1</td>\n    </tr>\n    <tr>\n      <th>8</th>\n      <td>How Well Do You Remember The Intro To \"Danny P...</td>\n      <td>1</td>\n    </tr>\n    <tr>\n      <th>9</th>\n      <td>Harry Potter Fans Are Paying It Forward And Le...</td>\n      <td>1</td>\n    </tr>\n  </tbody>\n</table>\n</div>"
     },
     "execution_count": 39,
     "metadata": {},
     "output_type": "execute_result"
    }
   ],
   "source": [
    "clickbait_train[:10]"
   ],
   "metadata": {
    "collapsed": false,
    "pycharm": {
     "name": "#%%\n"
    }
   }
  },
  {
   "cell_type": "markdown",
   "source": [
    "## String cleaning\n",
    "A usual first step in bag-of-words models is to apply cleaning to the text strings. This is for two reasons:\n",
    "* We usually don't want punctuation to be included as part of the vocabulary\n",
    "* We want to homogenise the tokens as much as possible so that the same words end up in the same column."
   ],
   "metadata": {
    "collapsed": false,
    "pycharm": {
     "name": "#%% md\n"
    }
   }
  },
  {
   "cell_type": "code",
   "execution_count": 23,
   "outputs": [],
   "source": [
    "def apply_string_cleaning(dataset: pd.Series) -> pd.Series:\n",
    "    \"\"\"\n",
    "    Applies a series of string cleaning tasks to a Pandas Series containing string data. The following cleaning\n",
    "    steps are applied:\n",
    "    - Convert all text to lowercase\n",
    "    - Remove strings starting with @ (tags), # (hashtags), `r/` (Reddit sub reference)\n",
    "      or `u/` (Reddit user reference).\n",
    "    - Remove all non-alphabetic characters\n",
    "    - Remove all single character words\n",
    "    - Remove all whitespace\n",
    "    \"\"\"\n",
    "\n",
    "    return (\n",
    "        dataset\n",
    "        .str.lower()\n",
    "        .str.replace(\"@\\w+\", \"\", regex=True)\n",
    "        .str.replace(\"#\\w+\", \"\", regex=True)\n",
    "        .str.replace(\"\\s[u|r]/\\w+\", \"\", regex=True)\n",
    "        .str.replace(\"[^a-zA-Z]\", \" \", regex=True)\n",
    "        .str.replace(r\"\\b\\w\\b\", \"\", regex=True)\n",
    "        .str.replace(\"\\s+\", \" \", regex=True)\n",
    "        .str.strip()\n",
    "    )"
   ],
   "metadata": {
    "collapsed": false,
    "pycharm": {
     "name": "#%%\n"
    }
   }
  },
  {
   "cell_type": "code",
   "execution_count": 40,
   "outputs": [],
   "source": [
    "clickbait_train[\"text_clean\"] = apply_string_cleaning(clickbait_train[\"text\"])\n",
    "clickbait_val[\"text_clean\"] = apply_string_cleaning(clickbait_val[\"text\"])"
   ],
   "metadata": {
    "collapsed": false,
    "pycharm": {
     "name": "#%%\n"
    }
   }
  },
  {
   "cell_type": "markdown",
   "source": [
    "## Count vectorise the text"
   ],
   "metadata": {
    "collapsed": false,
    "pycharm": {
     "name": "#%% md\n"
    }
   }
  },
  {
   "cell_type": "code",
   "execution_count": 41,
   "outputs": [
    {
     "data": {
      "text/plain": "CountVectorizer()",
      "text/html": "<style>#sk-container-id-3 {color: black;background-color: white;}#sk-container-id-3 pre{padding: 0;}#sk-container-id-3 div.sk-toggleable {background-color: white;}#sk-container-id-3 label.sk-toggleable__label {cursor: pointer;display: block;width: 100%;margin-bottom: 0;padding: 0.3em;box-sizing: border-box;text-align: center;}#sk-container-id-3 label.sk-toggleable__label-arrow:before {content: \"▸\";float: left;margin-right: 0.25em;color: #696969;}#sk-container-id-3 label.sk-toggleable__label-arrow:hover:before {color: black;}#sk-container-id-3 div.sk-estimator:hover label.sk-toggleable__label-arrow:before {color: black;}#sk-container-id-3 div.sk-toggleable__content {max-height: 0;max-width: 0;overflow: hidden;text-align: left;background-color: #f0f8ff;}#sk-container-id-3 div.sk-toggleable__content pre {margin: 0.2em;color: black;border-radius: 0.25em;background-color: #f0f8ff;}#sk-container-id-3 input.sk-toggleable__control:checked~div.sk-toggleable__content {max-height: 200px;max-width: 100%;overflow: auto;}#sk-container-id-3 input.sk-toggleable__control:checked~label.sk-toggleable__label-arrow:before {content: \"▾\";}#sk-container-id-3 div.sk-estimator input.sk-toggleable__control:checked~label.sk-toggleable__label {background-color: #d4ebff;}#sk-container-id-3 div.sk-label input.sk-toggleable__control:checked~label.sk-toggleable__label {background-color: #d4ebff;}#sk-container-id-3 input.sk-hidden--visually {border: 0;clip: rect(1px 1px 1px 1px);clip: rect(1px, 1px, 1px, 1px);height: 1px;margin: -1px;overflow: hidden;padding: 0;position: absolute;width: 1px;}#sk-container-id-3 div.sk-estimator {font-family: monospace;background-color: #f0f8ff;border: 1px dotted black;border-radius: 0.25em;box-sizing: border-box;margin-bottom: 0.5em;}#sk-container-id-3 div.sk-estimator:hover {background-color: #d4ebff;}#sk-container-id-3 div.sk-parallel-item::after {content: \"\";width: 100%;border-bottom: 1px solid gray;flex-grow: 1;}#sk-container-id-3 div.sk-label:hover label.sk-toggleable__label {background-color: #d4ebff;}#sk-container-id-3 div.sk-serial::before {content: \"\";position: absolute;border-left: 1px solid gray;box-sizing: border-box;top: 0;bottom: 0;left: 50%;z-index: 0;}#sk-container-id-3 div.sk-serial {display: flex;flex-direction: column;align-items: center;background-color: white;padding-right: 0.2em;padding-left: 0.2em;position: relative;}#sk-container-id-3 div.sk-item {position: relative;z-index: 1;}#sk-container-id-3 div.sk-parallel {display: flex;align-items: stretch;justify-content: center;background-color: white;position: relative;}#sk-container-id-3 div.sk-item::before, #sk-container-id-3 div.sk-parallel-item::before {content: \"\";position: absolute;border-left: 1px solid gray;box-sizing: border-box;top: 0;bottom: 0;left: 50%;z-index: -1;}#sk-container-id-3 div.sk-parallel-item {display: flex;flex-direction: column;z-index: 1;position: relative;background-color: white;}#sk-container-id-3 div.sk-parallel-item:first-child::after {align-self: flex-end;width: 50%;}#sk-container-id-3 div.sk-parallel-item:last-child::after {align-self: flex-start;width: 50%;}#sk-container-id-3 div.sk-parallel-item:only-child::after {width: 0;}#sk-container-id-3 div.sk-dashed-wrapped {border: 1px dashed gray;margin: 0 0.4em 0.5em 0.4em;box-sizing: border-box;padding-bottom: 0.4em;background-color: white;}#sk-container-id-3 div.sk-label label {font-family: monospace;font-weight: bold;display: inline-block;line-height: 1.2em;}#sk-container-id-3 div.sk-label-container {text-align: center;}#sk-container-id-3 div.sk-container {/* jupyter's `normalize.less` sets `[hidden] { display: none; }` but bootstrap.min.css set `[hidden] { display: none !important; }` so we also need the `!important` here to be able to override the default hidden behavior on the sphinx rendered scikit-learn.org. See: https://github.com/scikit-learn/scikit-learn/issues/21755 */display: inline-block !important;position: relative;}#sk-container-id-3 div.sk-text-repr-fallback {display: none;}</style><div id=\"sk-container-id-3\" class=\"sk-top-container\"><div class=\"sk-text-repr-fallback\"><pre>CountVectorizer()</pre><b>In a Jupyter environment, please rerun this cell to show the HTML representation or trust the notebook. <br />On GitHub, the HTML representation is unable to render, please try loading this page with nbviewer.org.</b></div><div class=\"sk-container\" hidden><div class=\"sk-item\"><div class=\"sk-estimator sk-toggleable\"><input class=\"sk-toggleable__control sk-hidden--visually\" id=\"sk-estimator-id-3\" type=\"checkbox\" checked><label for=\"sk-estimator-id-3\" class=\"sk-toggleable__label sk-toggleable__label-arrow\">CountVectorizer</label><div class=\"sk-toggleable__content\"><pre>CountVectorizer()</pre></div></div></div></div></div>"
     },
     "execution_count": 41,
     "metadata": {},
     "output_type": "execute_result"
    }
   ],
   "source": [
    "from sklearn.feature_extraction.text import CountVectorizer\n",
    "\n",
    "countVectoriser = CountVectorizer()\n",
    "countVectoriser.fit(clickbait_train[\"text_clean\"])"
   ],
   "metadata": {
    "collapsed": false,
    "pycharm": {
     "name": "#%%\n"
    }
   }
  },
  {
   "cell_type": "code",
   "execution_count": 42,
   "outputs": [],
   "source": [
    "X_train_cv = countVectoriser.transform(clickbait_train[\"text_clean\"]).toarray()\n",
    "X_val_cv = countVectoriser.transform(clickbait_val[\"text_clean\"]).toarray()"
   ],
   "metadata": {
    "collapsed": false,
    "pycharm": {
     "name": "#%%\n"
    }
   }
  },
  {
   "cell_type": "code",
   "execution_count": 43,
   "outputs": [
    {
     "data": {
      "text/plain": "       aa  aaa  aaevpc  aaron  ab  abandon  abandoned  abandoning  abandons  \\\n0       0    0       0      0   0        0          0           0         0   \n1       0    0       0      0   0        0          0           0         0   \n2       0    0       0      0   0        0          0           0         0   \n3       0    0       0      0   0        0          0           0         0   \n4       0    0       0      0   0        0          0           0         0   \n...    ..  ...     ...    ...  ..      ...        ...         ...       ...   \n19195   0    0       0      0   0        0          0           0         0   \n19196   0    0       0      0   0        0          0           0         0   \n19197   0    0       0      0   0        0          0           0         0   \n19198   0    0       0      0   0        0          0           0         0   \n19199   0    0       0      0   0        0          0           0         0   \n\n       abba  ...  zooey  zoolander  zoombak  zoomed  zotob  zowie  zuckerberg  \\\n0         0  ...      0          0        0       0      0      0           0   \n1         0  ...      0          0        0       0      0      0           0   \n2         0  ...      0          0        0       0      0      0           0   \n3         0  ...      0          0        0       0      0      0           0   \n4         0  ...      0          0        0       0      0      0           0   \n...     ...  ...    ...        ...      ...     ...    ...    ...         ...   \n19195     0  ...      0          0        0       0      0      0           0   \n19196     0  ...      0          0        0       0      0      0           0   \n19197     0  ...      0          0        0       0      0      0           0   \n19198     0  ...      0          0        0       0      0      0           0   \n19199     0  ...      0          0        0       0      0      0           0   \n\n       zuma  zurawski  zurich  \n0         0         0       0  \n1         0         0       0  \n2         0         0       0  \n3         0         0       0  \n4         0         0       0  \n...     ...       ...     ...  \n19195     0         0       0  \n19196     0         0       0  \n19197     0         0       0  \n19198     0         0       0  \n19199     0         0       0  \n\n[19200 rows x 17652 columns]",
      "text/html": "<div>\n<style scoped>\n    .dataframe tbody tr th:only-of-type {\n        vertical-align: middle;\n    }\n\n    .dataframe tbody tr th {\n        vertical-align: top;\n    }\n\n    .dataframe thead th {\n        text-align: right;\n    }\n</style>\n<table border=\"1\" class=\"dataframe\">\n  <thead>\n    <tr style=\"text-align: right;\">\n      <th></th>\n      <th>aa</th>\n      <th>aaa</th>\n      <th>aaevpc</th>\n      <th>aaron</th>\n      <th>ab</th>\n      <th>abandon</th>\n      <th>abandoned</th>\n      <th>abandoning</th>\n      <th>abandons</th>\n      <th>abba</th>\n      <th>...</th>\n      <th>zooey</th>\n      <th>zoolander</th>\n      <th>zoombak</th>\n      <th>zoomed</th>\n      <th>zotob</th>\n      <th>zowie</th>\n      <th>zuckerberg</th>\n      <th>zuma</th>\n      <th>zurawski</th>\n      <th>zurich</th>\n    </tr>\n  </thead>\n  <tbody>\n    <tr>\n      <th>0</th>\n      <td>0</td>\n      <td>0</td>\n      <td>0</td>\n      <td>0</td>\n      <td>0</td>\n      <td>0</td>\n      <td>0</td>\n      <td>0</td>\n      <td>0</td>\n      <td>0</td>\n      <td>...</td>\n      <td>0</td>\n      <td>0</td>\n      <td>0</td>\n      <td>0</td>\n      <td>0</td>\n      <td>0</td>\n      <td>0</td>\n      <td>0</td>\n      <td>0</td>\n      <td>0</td>\n    </tr>\n    <tr>\n      <th>1</th>\n      <td>0</td>\n      <td>0</td>\n      <td>0</td>\n      <td>0</td>\n      <td>0</td>\n      <td>0</td>\n      <td>0</td>\n      <td>0</td>\n      <td>0</td>\n      <td>0</td>\n      <td>...</td>\n      <td>0</td>\n      <td>0</td>\n      <td>0</td>\n      <td>0</td>\n      <td>0</td>\n      <td>0</td>\n      <td>0</td>\n      <td>0</td>\n      <td>0</td>\n      <td>0</td>\n    </tr>\n    <tr>\n      <th>2</th>\n      <td>0</td>\n      <td>0</td>\n      <td>0</td>\n      <td>0</td>\n      <td>0</td>\n      <td>0</td>\n      <td>0</td>\n      <td>0</td>\n      <td>0</td>\n      <td>0</td>\n      <td>...</td>\n      <td>0</td>\n      <td>0</td>\n      <td>0</td>\n      <td>0</td>\n      <td>0</td>\n      <td>0</td>\n      <td>0</td>\n      <td>0</td>\n      <td>0</td>\n      <td>0</td>\n    </tr>\n    <tr>\n      <th>3</th>\n      <td>0</td>\n      <td>0</td>\n      <td>0</td>\n      <td>0</td>\n      <td>0</td>\n      <td>0</td>\n      <td>0</td>\n      <td>0</td>\n      <td>0</td>\n      <td>0</td>\n      <td>...</td>\n      <td>0</td>\n      <td>0</td>\n      <td>0</td>\n      <td>0</td>\n      <td>0</td>\n      <td>0</td>\n      <td>0</td>\n      <td>0</td>\n      <td>0</td>\n      <td>0</td>\n    </tr>\n    <tr>\n      <th>4</th>\n      <td>0</td>\n      <td>0</td>\n      <td>0</td>\n      <td>0</td>\n      <td>0</td>\n      <td>0</td>\n      <td>0</td>\n      <td>0</td>\n      <td>0</td>\n      <td>0</td>\n      <td>...</td>\n      <td>0</td>\n      <td>0</td>\n      <td>0</td>\n      <td>0</td>\n      <td>0</td>\n      <td>0</td>\n      <td>0</td>\n      <td>0</td>\n      <td>0</td>\n      <td>0</td>\n    </tr>\n    <tr>\n      <th>...</th>\n      <td>...</td>\n      <td>...</td>\n      <td>...</td>\n      <td>...</td>\n      <td>...</td>\n      <td>...</td>\n      <td>...</td>\n      <td>...</td>\n      <td>...</td>\n      <td>...</td>\n      <td>...</td>\n      <td>...</td>\n      <td>...</td>\n      <td>...</td>\n      <td>...</td>\n      <td>...</td>\n      <td>...</td>\n      <td>...</td>\n      <td>...</td>\n      <td>...</td>\n      <td>...</td>\n    </tr>\n    <tr>\n      <th>19195</th>\n      <td>0</td>\n      <td>0</td>\n      <td>0</td>\n      <td>0</td>\n      <td>0</td>\n      <td>0</td>\n      <td>0</td>\n      <td>0</td>\n      <td>0</td>\n      <td>0</td>\n      <td>...</td>\n      <td>0</td>\n      <td>0</td>\n      <td>0</td>\n      <td>0</td>\n      <td>0</td>\n      <td>0</td>\n      <td>0</td>\n      <td>0</td>\n      <td>0</td>\n      <td>0</td>\n    </tr>\n    <tr>\n      <th>19196</th>\n      <td>0</td>\n      <td>0</td>\n      <td>0</td>\n      <td>0</td>\n      <td>0</td>\n      <td>0</td>\n      <td>0</td>\n      <td>0</td>\n      <td>0</td>\n      <td>0</td>\n      <td>...</td>\n      <td>0</td>\n      <td>0</td>\n      <td>0</td>\n      <td>0</td>\n      <td>0</td>\n      <td>0</td>\n      <td>0</td>\n      <td>0</td>\n      <td>0</td>\n      <td>0</td>\n    </tr>\n    <tr>\n      <th>19197</th>\n      <td>0</td>\n      <td>0</td>\n      <td>0</td>\n      <td>0</td>\n      <td>0</td>\n      <td>0</td>\n      <td>0</td>\n      <td>0</td>\n      <td>0</td>\n      <td>0</td>\n      <td>...</td>\n      <td>0</td>\n      <td>0</td>\n      <td>0</td>\n      <td>0</td>\n      <td>0</td>\n      <td>0</td>\n      <td>0</td>\n      <td>0</td>\n      <td>0</td>\n      <td>0</td>\n    </tr>\n    <tr>\n      <th>19198</th>\n      <td>0</td>\n      <td>0</td>\n      <td>0</td>\n      <td>0</td>\n      <td>0</td>\n      <td>0</td>\n      <td>0</td>\n      <td>0</td>\n      <td>0</td>\n      <td>0</td>\n      <td>...</td>\n      <td>0</td>\n      <td>0</td>\n      <td>0</td>\n      <td>0</td>\n      <td>0</td>\n      <td>0</td>\n      <td>0</td>\n      <td>0</td>\n      <td>0</td>\n      <td>0</td>\n    </tr>\n    <tr>\n      <th>19199</th>\n      <td>0</td>\n      <td>0</td>\n      <td>0</td>\n      <td>0</td>\n      <td>0</td>\n      <td>0</td>\n      <td>0</td>\n      <td>0</td>\n      <td>0</td>\n      <td>0</td>\n      <td>...</td>\n      <td>0</td>\n      <td>0</td>\n      <td>0</td>\n      <td>0</td>\n      <td>0</td>\n      <td>0</td>\n      <td>0</td>\n      <td>0</td>\n      <td>0</td>\n      <td>0</td>\n    </tr>\n  </tbody>\n</table>\n<p>19200 rows × 17652 columns</p>\n</div>"
     },
     "execution_count": 43,
     "metadata": {},
     "output_type": "execute_result"
    }
   ],
   "source": [
    "# Show what the count vectorisator does to each of the texts\n",
    "pd.DataFrame(X_train_cv).rename(columns={v: k for k, v in countVectoriser.vocabulary_.items()})"
   ],
   "metadata": {
    "collapsed": false,
    "pycharm": {
     "name": "#%%\n"
    }
   }
  },
  {
   "cell_type": "code",
   "execution_count": 51,
   "outputs": [
    {
     "data": {
      "text/plain": "                                              text_clean  believe  gigantic  \\\n3907     beaches you won believe actually exist in india        1         0   \n4425   dogs who are so gigantic you won believe they ...        1         1   \n4664   untrue facts about mental health you probably ...        1         0   \n5230   confessions from people who are afraid to admi...        1         0   \n6072               movies you won believe are turning in        1         0   \n6579               things you won believe are turning in        1         0   \n6930   celebrities you won believe are turning this year        1         0   \n6947                songs you won believe are turning in        1         0   \n7574   guy made fake fact go viral to prove not to be...        1         0   \n7723   you won believe how many sharks are swimming o...        1         0   \n8842                  leftover makeovers you won believe        1         0   \n9609   you won believe what happened to the wednesday...        1         0   \n10708  jimmy fallon impressions that ll make you actu...        1         0   \n10811  vintage photos of couples that will make you b...        1         0   \n11079  this man beautiful story about his wife will m...        1         0   \n11280  many still believe myths associated with cance...        1         0   \n11689  jada pinkett smith posted baby photo of will f...        1         0   \n12231        dogs who will make you believe in happiness        1         0   \n12724  you won believe how much the original wedding ...        1         0   \n13569  totally breathtaking places you won believe ar...        1         0   \n13985   sweet pumpkin treats you won believe are healthy        1         0   \n14080  these gadgets will make you believe in the fut...        1         0   \n14979  magical places in the south you won believe ac...        1         0   \n16164  insane christmas decorations you won believe a...        1         0   \n16585         books that will make you believe in ghosts        1         0   \n18342  you won believe how much of this mini crosswor...        1         0   \n18413  delicious vegan desserts you won believe are m...        1         0   \n19043        weird as hell laws you won believe are real        1         0   \n\n       dogs  confessions  clickbait_label  \n3907      0            0                1  \n4425      1            0                1  \n4664      0            0                1  \n5230      0            1                1  \n6072      0            0                1  \n6579      0            0                1  \n6930      0            0                1  \n6947      0            0                1  \n7574      0            0                1  \n7723      0            0                1  \n8842      0            0                1  \n9609      0            0                1  \n10708     0            0                1  \n10811     0            0                1  \n11079     0            0                1  \n11280     0            0                0  \n11689     0            0                1  \n12231     1            0                1  \n12724     0            0                1  \n13569     0            0                1  \n13985     0            0                1  \n14080     0            0                1  \n14979     0            0                1  \n16164     0            0                1  \n16585     0            0                1  \n18342     0            0                1  \n18413     0            0                1  \n19043     0            0                1  ",
      "text/html": "<div>\n<style scoped>\n    .dataframe tbody tr th:only-of-type {\n        vertical-align: middle;\n    }\n\n    .dataframe tbody tr th {\n        vertical-align: top;\n    }\n\n    .dataframe thead th {\n        text-align: right;\n    }\n</style>\n<table border=\"1\" class=\"dataframe\">\n  <thead>\n    <tr style=\"text-align: right;\">\n      <th></th>\n      <th>text_clean</th>\n      <th>believe</th>\n      <th>gigantic</th>\n      <th>dogs</th>\n      <th>confessions</th>\n      <th>clickbait_label</th>\n    </tr>\n  </thead>\n  <tbody>\n    <tr>\n      <th>3907</th>\n      <td>beaches you won believe actually exist in india</td>\n      <td>1</td>\n      <td>0</td>\n      <td>0</td>\n      <td>0</td>\n      <td>1</td>\n    </tr>\n    <tr>\n      <th>4425</th>\n      <td>dogs who are so gigantic you won believe they ...</td>\n      <td>1</td>\n      <td>1</td>\n      <td>1</td>\n      <td>0</td>\n      <td>1</td>\n    </tr>\n    <tr>\n      <th>4664</th>\n      <td>untrue facts about mental health you probably ...</td>\n      <td>1</td>\n      <td>0</td>\n      <td>0</td>\n      <td>0</td>\n      <td>1</td>\n    </tr>\n    <tr>\n      <th>5230</th>\n      <td>confessions from people who are afraid to admi...</td>\n      <td>1</td>\n      <td>0</td>\n      <td>0</td>\n      <td>1</td>\n      <td>1</td>\n    </tr>\n    <tr>\n      <th>6072</th>\n      <td>movies you won believe are turning in</td>\n      <td>1</td>\n      <td>0</td>\n      <td>0</td>\n      <td>0</td>\n      <td>1</td>\n    </tr>\n    <tr>\n      <th>6579</th>\n      <td>things you won believe are turning in</td>\n      <td>1</td>\n      <td>0</td>\n      <td>0</td>\n      <td>0</td>\n      <td>1</td>\n    </tr>\n    <tr>\n      <th>6930</th>\n      <td>celebrities you won believe are turning this year</td>\n      <td>1</td>\n      <td>0</td>\n      <td>0</td>\n      <td>0</td>\n      <td>1</td>\n    </tr>\n    <tr>\n      <th>6947</th>\n      <td>songs you won believe are turning in</td>\n      <td>1</td>\n      <td>0</td>\n      <td>0</td>\n      <td>0</td>\n      <td>1</td>\n    </tr>\n    <tr>\n      <th>7574</th>\n      <td>guy made fake fact go viral to prove not to be...</td>\n      <td>1</td>\n      <td>0</td>\n      <td>0</td>\n      <td>0</td>\n      <td>1</td>\n    </tr>\n    <tr>\n      <th>7723</th>\n      <td>you won believe how many sharks are swimming o...</td>\n      <td>1</td>\n      <td>0</td>\n      <td>0</td>\n      <td>0</td>\n      <td>1</td>\n    </tr>\n    <tr>\n      <th>8842</th>\n      <td>leftover makeovers you won believe</td>\n      <td>1</td>\n      <td>0</td>\n      <td>0</td>\n      <td>0</td>\n      <td>1</td>\n    </tr>\n    <tr>\n      <th>9609</th>\n      <td>you won believe what happened to the wednesday...</td>\n      <td>1</td>\n      <td>0</td>\n      <td>0</td>\n      <td>0</td>\n      <td>1</td>\n    </tr>\n    <tr>\n      <th>10708</th>\n      <td>jimmy fallon impressions that ll make you actu...</td>\n      <td>1</td>\n      <td>0</td>\n      <td>0</td>\n      <td>0</td>\n      <td>1</td>\n    </tr>\n    <tr>\n      <th>10811</th>\n      <td>vintage photos of couples that will make you b...</td>\n      <td>1</td>\n      <td>0</td>\n      <td>0</td>\n      <td>0</td>\n      <td>1</td>\n    </tr>\n    <tr>\n      <th>11079</th>\n      <td>this man beautiful story about his wife will m...</td>\n      <td>1</td>\n      <td>0</td>\n      <td>0</td>\n      <td>0</td>\n      <td>1</td>\n    </tr>\n    <tr>\n      <th>11280</th>\n      <td>many still believe myths associated with cance...</td>\n      <td>1</td>\n      <td>0</td>\n      <td>0</td>\n      <td>0</td>\n      <td>0</td>\n    </tr>\n    <tr>\n      <th>11689</th>\n      <td>jada pinkett smith posted baby photo of will f...</td>\n      <td>1</td>\n      <td>0</td>\n      <td>0</td>\n      <td>0</td>\n      <td>1</td>\n    </tr>\n    <tr>\n      <th>12231</th>\n      <td>dogs who will make you believe in happiness</td>\n      <td>1</td>\n      <td>0</td>\n      <td>1</td>\n      <td>0</td>\n      <td>1</td>\n    </tr>\n    <tr>\n      <th>12724</th>\n      <td>you won believe how much the original wedding ...</td>\n      <td>1</td>\n      <td>0</td>\n      <td>0</td>\n      <td>0</td>\n      <td>1</td>\n    </tr>\n    <tr>\n      <th>13569</th>\n      <td>totally breathtaking places you won believe ar...</td>\n      <td>1</td>\n      <td>0</td>\n      <td>0</td>\n      <td>0</td>\n      <td>1</td>\n    </tr>\n    <tr>\n      <th>13985</th>\n      <td>sweet pumpkin treats you won believe are healthy</td>\n      <td>1</td>\n      <td>0</td>\n      <td>0</td>\n      <td>0</td>\n      <td>1</td>\n    </tr>\n    <tr>\n      <th>14080</th>\n      <td>these gadgets will make you believe in the fut...</td>\n      <td>1</td>\n      <td>0</td>\n      <td>0</td>\n      <td>0</td>\n      <td>1</td>\n    </tr>\n    <tr>\n      <th>14979</th>\n      <td>magical places in the south you won believe ac...</td>\n      <td>1</td>\n      <td>0</td>\n      <td>0</td>\n      <td>0</td>\n      <td>1</td>\n    </tr>\n    <tr>\n      <th>16164</th>\n      <td>insane christmas decorations you won believe a...</td>\n      <td>1</td>\n      <td>0</td>\n      <td>0</td>\n      <td>0</td>\n      <td>1</td>\n    </tr>\n    <tr>\n      <th>16585</th>\n      <td>books that will make you believe in ghosts</td>\n      <td>1</td>\n      <td>0</td>\n      <td>0</td>\n      <td>0</td>\n      <td>1</td>\n    </tr>\n    <tr>\n      <th>18342</th>\n      <td>you won believe how much of this mini crosswor...</td>\n      <td>1</td>\n      <td>0</td>\n      <td>0</td>\n      <td>0</td>\n      <td>1</td>\n    </tr>\n    <tr>\n      <th>18413</th>\n      <td>delicious vegan desserts you won believe are m...</td>\n      <td>1</td>\n      <td>0</td>\n      <td>0</td>\n      <td>0</td>\n      <td>1</td>\n    </tr>\n    <tr>\n      <th>19043</th>\n      <td>weird as hell laws you won believe are real</td>\n      <td>1</td>\n      <td>0</td>\n      <td>0</td>\n      <td>0</td>\n      <td>1</td>\n    </tr>\n  </tbody>\n</table>\n</div>"
     },
     "execution_count": 51,
     "metadata": {},
     "output_type": "execute_result"
    }
   ],
   "source": [
    "(\n",
    "    pd.merge(clickbait_train[[\"text_clean\", \"label\"]],\n",
    "             pd.DataFrame(X_train_cv).rename(columns={v: k for k, v in countVectoriser.vocabulary_.items()}),\n",
    "             left_index=True,\n",
    "             right_index=True)\n",
    "    .query(\"believe == 1\")\n",
    "    [[\"text_clean\", \"believe\", \"gigantic\", \"dogs\", \"confessions\", \"label_x\"]]\n",
    "    .rename(columns = {\"label_x\": \"clickbait_label\"})\n",
    ")"
   ],
   "metadata": {
    "collapsed": false,
    "pycharm": {
     "name": "#%%\n"
    }
   }
  },
  {
   "cell_type": "markdown",
   "source": [
    "## Train a simple model\n",
    "\n",
    "We're going to train a simple neural net with one hidden layer. The details of this model are not important: the only thing to note is that the model will be pretty much the same across all the different variations of text processing that we're going to do."
   ],
   "metadata": {
    "collapsed": false,
    "pycharm": {
     "name": "#%% md\n"
    }
   }
  },
  {
   "cell_type": "code",
   "execution_count": 44,
   "outputs": [],
   "source": [
    "def train_text_classification_model(\n",
    "        train_features: np.ndarray,\n",
    "        train_labels: np.ndarray,\n",
    "        validation_features: np.ndarray,\n",
    "        validation_labels: np.ndarray,\n",
    "        input_size: int,\n",
    "        num_epochs: int,\n",
    "        hidden_layer_size: int) -> models.Sequential:\n",
    "    model = models.Sequential()\n",
    "    model.add(layers.Dense(hidden_layer_size, activation=\"relu\", input_shape=(input_size,)))\n",
    "    model.add(layers.Dense(1, activation=\"sigmoid\"))\n",
    "\n",
    "    model.compile(optimizer=\"rmsprop\",\n",
    "                  loss=\"binary_crossentropy\",\n",
    "                  metrics=[\"accuracy\"]\n",
    "                  )\n",
    "\n",
    "    model.fit(train_features,\n",
    "              train_labels,\n",
    "              epochs=num_epochs,\n",
    "              batch_size=1920,\n",
    "              validation_data=(validation_features, validation_labels)\n",
    "              )\n",
    "    return model"
   ],
   "metadata": {
    "collapsed": false,
    "pycharm": {
     "name": "#%%\n"
    }
   }
  },
  {
   "cell_type": "code",
   "execution_count": 45,
   "outputs": [],
   "source": [
    "def generate_predictions(model: models.Sequential,\n",
    "                         validation_features: np.ndarray,\n",
    "                         validation_labels: np.ndarray) -> list:\n",
    "    predicted_proba = model.predict(validation_features)\n",
    "    predicted_labels = [sl for l in np.rint(predicted_proba) for sl in l]\n",
    "\n",
    "    print(pd.crosstab(validation_labels, predicted_labels))\n",
    "    return predicted_labels"
   ],
   "metadata": {
    "collapsed": false,
    "pycharm": {
     "name": "#%%\n"
    }
   }
  },
  {
   "cell_type": "code",
   "execution_count": 46,
   "outputs": [
    {
     "name": "stdout",
     "output_type": "stream",
     "text": [
      "Epoch 1/2\n",
      "10/10 [==============================] - 9s 681ms/step - loss: 0.3303 - accuracy: 0.9084 - val_loss: 0.1354 - val_accuracy: 0.9689\n",
      "Epoch 2/2\n",
      "10/10 [==============================] - 6s 647ms/step - loss: 0.0836 - accuracy: 0.9841 - val_loss: 0.0899 - val_accuracy: 0.9736\n"
     ]
    }
   ],
   "source": [
    "baseline_model = train_text_classification_model(\n",
    "    X_train_cv,\n",
    "    clickbait_train[\"label\"].to_numpy(),\n",
    "    X_val_cv,\n",
    "    clickbait_val[\"label\"].to_numpy(),\n",
    "    X_train_cv.shape[1],\n",
    "    2,\n",
    "    1700\n",
    ")"
   ],
   "metadata": {
    "collapsed": false,
    "pycharm": {
     "name": "#%%\n"
    }
   }
  },
  {
   "cell_type": "code",
   "execution_count": 47,
   "outputs": [
    {
     "name": "stdout",
     "output_type": "stream",
     "text": [
      "200/200 [==============================] - 3s 14ms/step\n",
      "col_0   0.0   1.0\n",
      "row_0            \n",
      "0      3104   100\n",
      "1        69  3127\n"
     ]
    }
   ],
   "source": [
    "clickbait_val[\"baseline_pred\"] = generate_predictions(baseline_model, X_val_cv, clickbait_val[\"label\"].to_numpy())"
   ],
   "metadata": {
    "collapsed": false,
    "pycharm": {
     "name": "#%%\n"
    }
   }
  },
  {
   "cell_type": "code",
   "execution_count": 52,
   "outputs": [
    {
     "data": {
      "text/plain": "30     The Iconic Beatles Ashram In Rishikesh Is Once...\n49     This Body Cam Footage Shows A Vehicle Plow Int...\n83     Photographer Gregory Crewdson Releases Hauntin...\n139    21 New Year's Resolutions For TV To Consider I...\n222    Oscar-Nominated Movie Posters With White Actor...\nName: text, dtype: object"
     },
     "execution_count": 52,
     "metadata": {},
     "output_type": "execute_result"
    }
   ],
   "source": [
    "# Predicted as non-clickbait when they are clickbait\n",
    "clickbait_val.loc[(clickbait_val[\"label\"] == 1) & (clickbait_val[\"baseline_pred\"] == 0), \"text\"][:5]"
   ],
   "metadata": {
    "collapsed": false,
    "pycharm": {
     "name": "#%%\n"
    }
   }
  },
  {
   "cell_type": "code",
   "execution_count": 55,
   "outputs": [
    {
     "data": {
      "text/plain": "4                              Where Is Oil Going Next?\n69            A World of Lingo (Out of This World, Too)\n184             Posted deadlines for Christmas delivery\n422     Dolls Resembling Daughters Displease First Lady\n443    Panasonic GH1 Merges S.L.R. Photos With HD Video\nName: text, dtype: object"
     },
     "execution_count": 55,
     "metadata": {},
     "output_type": "execute_result"
    }
   ],
   "source": [
    "# Predicted as clickbait when they are not\n",
    "clickbait_val.loc[(clickbait_val[\"label\"] == 0) & (clickbait_val[\"baseline_pred\"] == 1), \"text\"][:5]"
   ],
   "metadata": {
    "collapsed": false,
    "pycharm": {
     "name": "#%%\n"
    }
   }
  },
  {
   "cell_type": "code",
   "execution_count": null,
   "outputs": [],
   "source": [],
   "metadata": {
    "collapsed": false,
    "pycharm": {
     "name": "#%%\n"
    }
   }
  }
 ],
 "metadata": {
  "kernelspec": {
   "display_name": "Python 3",
   "language": "python",
   "name": "python3"
  },
  "language_info": {
   "codemirror_mode": {
    "name": "ipython",
    "version": 2
   },
   "file_extension": ".py",
   "mimetype": "text/x-python",
   "name": "python",
   "nbconvert_exporter": "python",
   "pygments_lexer": "ipython2",
   "version": "2.7.6"
  }
 },
 "nbformat": 4,
 "nbformat_minor": 0
}